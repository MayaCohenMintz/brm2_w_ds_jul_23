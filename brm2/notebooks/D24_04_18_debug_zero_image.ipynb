{
 "cells": [
  {
   "cell_type": "code",
   "execution_count": 16,
   "metadata": {},
   "outputs": [
    {
     "data": {
      "image/png": "[encoded data removed]",
      "text/plain": [
       "<Figure size 640x480 with 1 Axes>"
      ]
     },
     "metadata": {},
     "output_type": "display_data"
    }
   ],
   "source": [
    "from PIL import Image\n",
    "import matplotlib.pyplot as plt\n",
    "import numpy as np\n",
    "\n",
    "# Open the image file\n",
    "# img = Image.open(\n",
    "#     \"/home/ben/brainways/brainways-reg-model/data/real/train/images/2018_dev_round_3_and_4/Dev31/Dev31_cFos_1.czi\"\n",
    "#     \" [Scene #7 Channel #0].tif\"\n",
    "# )\n",
    "img = Image.open(\n",
    "    \"/home/ben/brainways/brainways-reg-model/data/real/train/images/2018_dev_round_3_and_4/Dev35/Dev35_cFos_1.czi [Scene #5 Channel #0].tif\"\n",
    ")\n",
    "\n",
    "# Display the image\n",
    "plt.imshow(img)\n",
    "plt.show()"
   ]
  },
  {
   "cell_type": "code",
   "execution_count": 5,
   "metadata": {},
   "outputs": [
    {
     "data": {
      "text/plain": [
       "(353, 1024)"
      ]
     },
     "execution_count": 5,
     "metadata": {},
     "output_type": "execute_result"
    }
   ],
   "source": [
    "np.array(img).shape"
   ]
  }
 ],
 "metadata": {
  "kernelspec": {
   "display_name": "brm-dinov2",
   "language": "python",
   "name": "python3"
  },
  "language_info": {
   "codemirror_mode": {
    "name": "ipython",
    "version": 3
   },
   "file_extension": ".py",
   "mimetype": "text/x-python",
   "name": "python",
   "nbconvert_exporter": "python",
   "pygments_lexer": "ipython3",
   "version": "3.11.4"
  }
 },
 "nbformat": 4,
 "nbformat_minor": 2
}
